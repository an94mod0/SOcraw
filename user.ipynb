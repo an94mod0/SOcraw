{
 "cells": [
  {
   "cell_type": "code",
   "execution_count": 55,
   "metadata": {},
   "outputs": [
    {
     "name": "stdout",
     "output_type": "stream",
     "text": [
      "7\n",
      "grep|0,1 , bash|0,1 , sed|0,1 , c++|0,1 , compilation|0,1 , header|0,1 , \n"
     ]
    }
   ],
   "source": [
    "import requests\n",
    "from bs4 import BeautifulSoup as bs\n",
    "import types\n",
    "import json\n",
    "import pymysql\n",
    "\n",
    "owner_id=\"9273190\"\n",
    "user_url = \"https://stackoverflow.com/users/\" + owner_id\n",
    "user_page = bs(requests.get(user_url).text,'html.parser')\n",
    "    \n",
    "reputation = user_page.find('div',class_='reputation').text.split(' r')[0]#可能大於一千，就會有,不能直接轉型\n",
    "reputation = int(reputation.strip().replace(',',''))\n",
    "print(reputation)\n",
    "\n",
    "times=0\n",
    "sql_text = \"\"\n",
    "for x in user_page.find_all('a',class_='post-tag'):\n",
    "    sql_text += x.text + \"|\"   \n",
    "    for y in user_page.find_all('span',class_='g-col -number'):\n",
    "        times+=1\n",
    "        if(times==1 or times==6 or times==13 or times==22 or times==33 or times==46):#score\n",
    "            sql_text += y.text + ',' \n",
    "        if(times==2 or times==7 or times==14 or times==23 or times==34 or times==47):#post\n",
    "            sql_text += y.text + \" , \"\n",
    "            break\n",
    "            \n",
    "print(sql_text)"
   ]
  },
  {
   "cell_type": "code",
   "execution_count": 63,
   "metadata": {},
   "outputs": [
    {
     "name": "stdout",
     "output_type": "stream",
     "text": [
      "0\n",
      "2\n",
      "128.0\n",
      " |  2018-01-26 15:44:38Z  |  3\n"
     ]
    }
   ],
   "source": [
    "answers = int(user_page.find('div',class_='stat answers col-3').text.split('a')[0].strip().replace(',',''))\n",
    "print(answers)\n",
    "\n",
    "questions = int(user_page.find('div',class_='stat questions col-3').text.split('q')[0].strip().replace(',',''))\n",
    "print(questions)\n",
    "\n",
    "reached = user_page.find('div',class_='stat people-helped col-5').text.split('p')[0].strip().replace('~','').replace(',','')\n",
    "\n",
    "if(reached[-1] == 'k'):\n",
    "    reached = float(reached.replace('k',''))\n",
    "    reached = reached * 1000\n",
    "elif(reached[-1] == 'm'):\n",
    "    reached = float(reached.replace('m',''))\n",
    "    reached = reached * 1000000\n",
    "else:\n",
    "    reached = float(reached)\n",
    "    \n",
    "print(reached)\n",
    "\n",
    "#1593077、9273190\n",
    "profile = user_page.find('ul',class_='list-unstyled')\n",
    "location = ''\n",
    "age = ''\n",
    "views = ''\n",
    "for x in profile.find_all('li'):\n",
    "    if(x.find('svg',class_='svg-icon iconLocation') != None):#代表這傢伙有居住地\n",
    "        location = x.text.strip()\n",
    "    if(x.find('svg',class_='svg-icon iconHistory') != None):#這傢伙的帳號創建日\n",
    "        age = x.find('span')['title']\n",
    "    if(x.find('svg',class_='svg-icon iconEye') != None):\n",
    "        views = int(x.text.split(' p')[0].strip().replace(',',''))\n",
    "        \n",
    "print(location + ' | ' , age , ' | ' , views)"
   ]
  },
  {
   "cell_type": "code",
   "execution_count": 61,
   "metadata": {},
   "outputs": [],
   "source": [
    "toptags_url = 'https://api.stackexchange.com/2.2/users/' + owner_id + '/top-tags?site=stackoverflow'\n",
    "user_toptags = bs(requests.get(toptags_url).text,'html.parser')\n",
    "\n",
    "\n",
    "json_str = json.loads(user_toptags.text)\n",
    "\n",
    "total_count = 0\n",
    "total_score = 0\n",
    "for x in range(len(json_str['items'])):\n",
    "    total_count = json_str['items'][x]['answer_count'] + json_str['items'][x]['question_count']\n",
    "    total_score = json_str['items'][x]['answer_score'] + json_str['items'][x]['question_score']\n",
    "    print('answer_count: ',json_str['items'][x]['answer_count'],'answer_score: ',json_str['items'][x]['answer_score'],\n",
    "         'question_count: ',json_str['items'][x]['question_count'],'question_score: ',json_str['items'][x]['question_score'],\n",
    "         'total_count:',total_count,'total_score: ',total_score,'tag_name: ',json_str['items'][x]['tag_name'])"
   ]
  },
  {
   "cell_type": "code",
   "execution_count": 67,
   "metadata": {},
   "outputs": [],
   "source": [
    "db = pymysql.connect('140.138.77.90','knkn','tp6bjo4u;6','knkn',use_unicode=True, charset=\"utf8mb4\")\n",
    "cursor = db.cursor()\n",
    "cursor.execute('INSERT INTO user (user_id,reputation,answers,questions,reached,location,age,views) VALUES('\n",
    "               + '\"' + owner_id + '\",' + str(reputation) + ',' + str(answers) + ',' + str(questions) + ',' + str(reached) + ',\"' + location + '\",\"' + age + '\",' + str(views) + ')')\n",
    "\n",
    "db.commit()\n",
    "cursor.close()\n",
    "db.close()"
   ]
  },
  {
   "cell_type": "code",
   "execution_count": null,
   "metadata": {},
   "outputs": [],
   "source": []
  }
 ],
 "metadata": {
  "kernelspec": {
   "display_name": "Python 3",
   "language": "python",
   "name": "python3"
  },
  "language_info": {
   "codemirror_mode": {
    "name": "ipython",
    "version": 3
   },
   "file_extension": ".py",
   "mimetype": "text/x-python",
   "name": "python",
   "nbconvert_exporter": "python",
   "pygments_lexer": "ipython3",
   "version": "3.6.4"
  }
 },
 "nbformat": 4,
 "nbformat_minor": 2
}
