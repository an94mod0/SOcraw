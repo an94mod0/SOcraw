{
 "cells": [
  {
   "cell_type": "code",
   "execution_count": 1,
   "metadata": {},
   "outputs": [
    {
     "name": "stdout",
     "output_type": "stream",
     "text": [
      "1536\n",
      "android|85,150 , firebase|20,9 , android-studio|11,11 , xml|9,7 , android-fragments|6,21 , java|5,40 , \n"
     ]
    }
   ],
   "source": [
    "import requests\n",
    "from bs4 import BeautifulSoup as bs\n",
    "import types\n",
    "import json\n",
    "import pymysql\n",
    "\n",
    "owner_id=\"4247543\"\n",
    "user_url = \"https://stackoverflow.com/users/\" + owner_id\n",
    "user_page = bs(requests.get(user_url).text,'html.parser')\n",
    "    \n",
    "reputation = user_page.find('div',class_='reputation').text.split(' r')[0]#可能大於一千，就會有,不能直接轉型\n",
    "reputation = int(reputation.strip().replace(',',''))\n",
    "print(reputation)\n",
    "\n",
    "times=0\n",
    "sql_text = \"\"\n",
    "for x in user_page.find_all('a',class_='post-tag'):\n",
    "    sql_text += x.text + \"|\"   \n",
    "    for y in user_page.find_all('span',class_='g-col -number'):\n",
    "        times+=1\n",
    "        if(times==1 or times==6 or times==13 or times==22 or times==33 or times==46):#score\n",
    "            sql_text += y.text + ',' \n",
    "        if(times==2 or times==7 or times==14 or times==23 or times==34 or times==47):#post\n",
    "            sql_text += y.text + \" , \"\n",
    "            break\n",
    "            \n",
    "print(sql_text)"
   ]
  },
  {
   "cell_type": "code",
   "execution_count": 8,
   "metadata": {},
   "outputs": [
    {
     "name": "stdout",
     "output_type": "stream",
     "text": [
      "151\n",
      "5\n",
      "\"~131k\"\n",
      "\"Ernakulam, Kerala, India\" | \"Member for 3 years, 4 months\" |  199\n"
     ]
    }
   ],
   "source": [
    "answers = int(user_page.find('div',class_='stat answers col-3').text.split('a')[0].strip())\n",
    "print(answers)\n",
    "\n",
    "questions = int(user_page.find('div',class_='stat questions col-3').text.split('q')[0].strip())\n",
    "print(questions)\n",
    "\n",
    "reached = '\"' + user_page.find('div',class_='stat people-helped col-5').text.split('p')[0].strip() + '\"'\n",
    "print(reached)\n",
    "\n",
    "#以上是頁面右上角的三個東西，其中answers和questions型態是int\n",
    "\n",
    "profile = user_page.find('ul',class_='list-unstyled')\n",
    "times = 0\n",
    "for x in profile.find_all('li'):\n",
    "    if(times == 0):\n",
    "        location = '\"' + x.text.strip() + '\"'\n",
    "    elif(times == 1):\n",
    "        age = '\"' + x.text.strip() + '\"'\n",
    "    else:\n",
    "        views = int(x.text.split(' p')[0].strip().replace(',',''))\n",
    "    times += 1 \n",
    "    if(times == 3):#times是上次登入時間，不需要抓下來，直接break避免再find_all一次\n",
    "        break\n",
    "print(location + ' | ' + age + ' | ' , views)"
   ]
  },
  {
   "cell_type": "code",
   "execution_count": 3,
   "metadata": {},
   "outputs": [
    {
     "name": "stdout",
     "output_type": "stream",
     "text": [
      "answer_count:  146 answer_score:  85 question_count:  4 question_score:  7 total_count: 150 total_score:  92 tag_name:  android\n",
      "answer_count:  9 answer_score:  20 question_count:  0 question_score:  0 total_count: 9 total_score:  20 tag_name:  firebase\n",
      "answer_count:  3 answer_score:  12 question_count:  0 question_score:  0 total_count: 3 total_score:  12 tag_name:  firebase-cloud-messaging\n",
      "answer_count:  11 answer_score:  11 question_count:  0 question_score:  0 total_count: 11 total_score:  11 tag_name:  android-studio\n",
      "answer_count:  38 answer_score:  5 question_count:  2 question_score:  4 total_count: 40 total_score:  9 tag_name:  java\n",
      "answer_count:  7 answer_score:  9 question_count:  0 question_score:  0 total_count: 7 total_score:  9 tag_name:  xml\n",
      "answer_count:  3 answer_score:  8 question_count:  0 question_score:  0 total_count: 3 total_score:  8 tag_name:  android-studio-2.2\n",
      "answer_count:  1 answer_score:  8 question_count:  0 question_score:  0 total_count: 1 total_score:  8 tag_name:  android-constraintlayout\n",
      "answer_count:  1 answer_score:  7 question_count:  0 question_score:  0 total_count: 1 total_score:  7 tag_name:  notifications\n",
      "answer_count:  21 answer_score:  6 question_count:  0 question_score:  0 total_count: 21 total_score:  6 tag_name:  android-fragments\n",
      "answer_count:  1 answer_score:  5 question_count:  0 question_score:  0 total_count: 1 total_score:  5 tag_name:  concatenation\n",
      "answer_count:  1 answer_score:  5 question_count:  0 question_score:  0 total_count: 1 total_score:  5 tag_name:  string-concatenation\n",
      "answer_count:  1 answer_score:  5 question_count:  0 question_score:  0 total_count: 1 total_score:  5 tag_name:  android-textview\n",
      "answer_count:  4 answer_score:  4 question_count:  0 question_score:  0 total_count: 4 total_score:  4 tag_name:  android-service\n",
      "answer_count:  4 answer_score:  4 question_count:  0 question_score:  0 total_count: 4 total_score:  4 tag_name:  android-activity\n",
      "answer_count:  3 answer_score:  4 question_count:  0 question_score:  0 total_count: 3 total_score:  4 tag_name:  butterknife\n",
      "answer_count:  1 answer_score:  4 question_count:  0 question_score:  0 total_count: 1 total_score:  4 tag_name:  android-switch\n",
      "answer_count:  0 answer_score:  0 question_count:  1 question_score:  3 total_count: 1 total_score:  3 tag_name:  performance\n",
      "answer_count:  0 answer_score:  0 question_count:  1 question_score:  3 total_count: 1 total_score:  3 tag_name:  qr-code\n",
      "answer_count:  0 answer_score:  0 question_count:  1 question_score:  3 total_count: 1 total_score:  3 tag_name:  wrapping\n",
      "answer_count:  0 answer_score:  0 question_count:  1 question_score:  3 total_count: 1 total_score:  3 tag_name:  zxing\n",
      "answer_count:  7 answer_score:  3 question_count:  0 question_score:  0 total_count: 7 total_score:  3 tag_name:  android-layout\n",
      "answer_count:  2 answer_score:  3 question_count:  0 question_score:  0 total_count: 2 total_score:  3 tag_name:  android-xml\n",
      "answer_count:  2 answer_score:  3 question_count:  0 question_score:  0 total_count: 2 total_score:  3 tag_name:  dart\n",
      "answer_count:  1 answer_score:  3 question_count:  0 question_score:  0 total_count: 1 total_score:  3 tag_name:  android-drawable\n",
      "answer_count:  1 answer_score:  3 question_count:  0 question_score:  0 total_count: 1 total_score:  3 tag_name:  android-shape\n",
      "answer_count:  2 answer_score:  3 question_count:  0 question_score:  0 total_count: 2 total_score:  3 tag_name:  flutter\n",
      "answer_count:  2 answer_score:  2 question_count:  0 question_score:  0 total_count: 2 total_score:  2 tag_name:  string\n",
      "answer_count:  1 answer_score:  2 question_count:  0 question_score:  0 total_count: 1 total_score:  2 tag_name:  count\n",
      "answer_count:  1 answer_score:  2 question_count:  0 question_score:  0 total_count: 1 total_score:  2 tag_name:  dimensions\n"
     ]
    }
   ],
   "source": [
    "toptags_url = 'https://api.stackexchange.com/2.2/users/' + owner_id + '/top-tags?site=stackoverflow'\n",
    "user_toptags = bs(requests.get(toptags_url).text,'html.parser')\n",
    "\n",
    "\n",
    "json_str = json.loads(user_toptags.text)\n",
    "\n",
    "total_count = 0\n",
    "total_score = 0\n",
    "for x in range(len(json_str['items'])):\n",
    "    total_count = json_str['items'][x]['answer_count'] + json_str['items'][x]['question_count']\n",
    "    total_score = json_str['items'][x]['answer_score'] + json_str['items'][x]['question_score']\n",
    "    print('answer_count: ',json_str['items'][x]['answer_count'],'answer_score: ',json_str['items'][x]['answer_score'],\n",
    "         'question_count: ',json_str['items'][x]['question_count'],'question_score: ',json_str['items'][x]['question_score'],\n",
    "         'total_count:',total_count,'total_score: ',total_score,'tag_name: ',json_str['items'][x]['tag_name'])"
   ]
  },
  {
   "cell_type": "code",
   "execution_count": 13,
   "metadata": {},
   "outputs": [],
   "source": [
    "db = pymysql.connect('140.138.77.90','knkn','tp6bjo4u;6','knkn',use_unicode=True, charset=\"utf8mb4\")\n",
    "cursor = db.cursor()\n",
    "cursor.execute('INSERT INTO user (user_id,reputation,answers,questions,reached,location,age,views) VALUES('\n",
    "               +owner_id+','+str(reputation)+','+str(answers)+','+str(questions)+','+reached+','+location+','+age+','+str(views)+')')\n",
    "\n",
    "db.commit()\n",
    "cursor.close()\n",
    "db.close()"
   ]
  },
  {
   "cell_type": "code",
   "execution_count": null,
   "metadata": {},
   "outputs": [],
   "source": []
  }
 ],
 "metadata": {
  "kernelspec": {
   "display_name": "Python 3",
   "language": "python",
   "name": "python3"
  },
  "language_info": {
   "codemirror_mode": {
    "name": "ipython",
    "version": 3
   },
   "file_extension": ".py",
   "mimetype": "text/x-python",
   "name": "python",
   "nbconvert_exporter": "python",
   "pygments_lexer": "ipython3",
   "version": "3.6.4"
  }
 },
 "nbformat": 4,
 "nbformat_minor": 2
}
