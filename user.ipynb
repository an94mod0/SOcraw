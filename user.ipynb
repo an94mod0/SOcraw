{
 "cells": [
  {
   "cell_type": "code",
   "execution_count": 60,
   "metadata": {},
   "outputs": [
    {
     "name": "stdout",
     "output_type": "stream",
     "text": [
      "24124\n"
     ]
    }
   ],
   "source": [
    "import requests\n",
    "from bs4 import BeautifulSoup as bs\n",
    "import types\n",
    "import json\n",
    "import pymysql\n",
    "import time\n",
    "\n",
    "db = pymysql.connect('140.138.77.90','knkn','tp6bjo4u;6','knkn',use_unicode=True, charset=\"utf8mb4\")\n",
    "cursor = db.cursor()\n",
    "\n",
    "owner_id=\"1593077\"\n",
    "user_url = \"https://stackoverflow.com/users/\" + owner_id\n",
    "user_page = bs(requests.get(user_url).text,'html.parser')\n",
    "    \n",
    "reputation = user_page.find('div',class_='reputation').text.split(' r')[0]#可能大於一千，就會有,不能直接轉型\n",
    "reputation = int(reputation.strip().replace(',',''))\n",
    "print(reputation)"
   ]
  },
  {
   "cell_type": "code",
   "execution_count": 61,
   "metadata": {},
   "outputs": [
    {
     "name": "stdout",
     "output_type": "stream",
     "text": [
      "448\n",
      "675\n",
      "2300000.0\n",
      "Amsterdam, Netherlands |  2012-08-12 06:35:18  |  4076\n"
     ]
    }
   ],
   "source": [
    "answers = int(user_page.find('div',class_='stat answers col-3').text.split('a')[0].strip().replace(',',''))\n",
    "print(answers)\n",
    "\n",
    "questions = int(user_page.find('div',class_='stat questions col-3').text.split('q')[0].strip().replace(',',''))\n",
    "print(questions)\n",
    "\n",
    "reached = user_page.find('div',class_='stat people-helped col-5').text.split('p')[0].strip().replace('~','').replace(',','')\n",
    "if(reached[-1] == 'k'):\n",
    "    reached = float(reached.replace('k',''))\n",
    "    reached = reached * 1000\n",
    "elif(reached[-1] == 'm'):\n",
    "    reached = float(reached.replace('m',''))\n",
    "    reached = reached * 1000000\n",
    "else:\n",
    "    reached = float(reached)\n",
    "print(reached)\n",
    "\n",
    "#1593077、9273190\n",
    "profile = user_page.find('ul',class_='list-unstyled')\n",
    "location = ''\n",
    "age = ''\n",
    "views = ''\n",
    "for x in profile.find_all('li'):\n",
    "    if(x.find('svg',class_='svg-icon iconLocation') is not None):#代表這傢伙有居住地\n",
    "        location = x.text.strip()\n",
    "    if(x.find('svg',class_='svg-icon iconHistory') is not None):#這傢伙的帳號創建日\n",
    "        age = x.find('span')['title'].split('Z')[0]\n",
    "    if(x.find('svg',class_='svg-icon iconEye') is not None):\n",
    "        views = int(x.text.split(' p')[0].strip().replace(',',''))\n",
    "        \n",
    "\n",
    "cursor.execute('INSERT INTO User (user_id,reputation,answers,questions,reached,location,age,views) VALUES('\n",
    "               + '\"' + owner_id + '\",' + str(reputation) + ',' + str(answers) + ',' + str(questions) + ',' + str(reached) + ',\"' + location + '\",\"' + age + '\",' + str(views) + ')')\n",
    "db.commit()\n",
    "\n",
    "print(location + ' | ' , age , ' | ' , views)"
   ]
  },
  {
   "cell_type": "code",
   "execution_count": 68,
   "metadata": {
    "collapsed": true
   },
   "outputs": [],
   "source": [
    "page = 1\n",
    "total_count = 0\n",
    "total_score = 0\n",
    "while True:\n",
    "    toptags_url = 'https://api.stackexchange.com/2.2/users/'+owner_id+'/top-tags?page=' + str(page) + '&pagesize=100&site=stackoverflow'\n",
    "    user_toptags = bs(requests.get(toptags_url).text,'html.parser')\n",
    "    json_str = json.loads(user_toptags.text)\n",
    "\n",
    "    cursor.execute('SELECT id FROM User WHERE user_id = '+str(owner_id))\n",
    "    user_index = cursor.fetchall()#user_index[0][0]是int\n",
    "\n",
    "    for x in range(len(json_str['items'])):\n",
    "        total_count = json_str['items'][x]['answer_count'] + json_str['items'][x]['question_count']#把answer和question的數量加起來\n",
    "        total_score = json_str['items'][x]['answer_score'] + json_str['items'][x]['question_score']#把answer和question的分數加起來\n",
    "        average = total_score/total_count#算平均每個問題得到幾分\n",
    "\n",
    "        cursor.execute('SELECT id FROM Tags WHERE name = \"'+str(json_str['items'][x]['tag_name'])+'\"')\n",
    "        tag_id = cursor.fetchall()\n",
    "        if (len(tag_id) != 0):#代表這個tag存在於Tags這個table裡面\n",
    "            tag_id = tag_id[0][0]\n",
    "        else:\n",
    "            tag_id = 0\n",
    "        cursor.execute('INSERT INTO UserTag (user_index,user_id,tag_id,answer_count,answer_score,question_count,question_score,total_count,total_score,average) VALUES('\n",
    "                           +str(user_index[0][0])+','+str(owner_id)+','+str(tag_id)+','+str(json_str['items'][x]['answer_count'])+','+str(json_str['items'][x]['answer_score'])+','+str(json_str['items'][x]['question_count'])+','+str(json_str['items'][x]['question_score'])+','+str(total_count)+','+str(total_score)+','+str(average)+')')\n",
    "        db.commit()\n",
    "\n",
    "    if (json_str['has_more'] is False):#還沒結束，後面還有\n",
    "        break\n",
    "    page = page + 1"
   ]
  },
  {
   "cell_type": "code",
   "execution_count": 70,
   "metadata": {},
   "outputs": [
    {
     "ename": "Error",
     "evalue": "Already closed",
     "output_type": "error",
     "traceback": [
      "\u001b[1;31m---------------------------------------------------------------------------\u001b[0m",
      "\u001b[1;31mError\u001b[0m                                     Traceback (most recent call last)",
      "\u001b[1;32m<ipython-input-70-af35abc78a6e>\u001b[0m in \u001b[0;36m<module>\u001b[1;34m()\u001b[0m\n\u001b[0;32m      1\u001b[0m \u001b[0mcursor\u001b[0m\u001b[1;33m.\u001b[0m\u001b[0mclose\u001b[0m\u001b[1;33m(\u001b[0m\u001b[1;33m)\u001b[0m\u001b[1;33m\u001b[0m\u001b[0m\n\u001b[1;32m----> 2\u001b[1;33m \u001b[0mdb\u001b[0m\u001b[1;33m.\u001b[0m\u001b[0mclose\u001b[0m\u001b[1;33m(\u001b[0m\u001b[1;33m)\u001b[0m\u001b[1;33m\u001b[0m\u001b[0m\n\u001b[0m",
      "\u001b[1;32m~\\Anaconda3\\lib\\site-packages\\pymysql\\connections.py\u001b[0m in \u001b[0;36mclose\u001b[1;34m(self)\u001b[0m\n\u001b[0;32m    719\u001b[0m         \u001b[1;34m\"\"\"Send the quit message and close the socket\"\"\"\u001b[0m\u001b[1;33m\u001b[0m\u001b[0m\n\u001b[0;32m    720\u001b[0m         \u001b[1;32mif\u001b[0m \u001b[0mself\u001b[0m\u001b[1;33m.\u001b[0m\u001b[0m_closed\u001b[0m\u001b[1;33m:\u001b[0m\u001b[1;33m\u001b[0m\u001b[0m\n\u001b[1;32m--> 721\u001b[1;33m             \u001b[1;32mraise\u001b[0m \u001b[0merr\u001b[0m\u001b[1;33m.\u001b[0m\u001b[0mError\u001b[0m\u001b[1;33m(\u001b[0m\u001b[1;34m\"Already closed\"\u001b[0m\u001b[1;33m)\u001b[0m\u001b[1;33m\u001b[0m\u001b[0m\n\u001b[0m\u001b[0;32m    722\u001b[0m         \u001b[0mself\u001b[0m\u001b[1;33m.\u001b[0m\u001b[0m_closed\u001b[0m \u001b[1;33m=\u001b[0m \u001b[1;32mTrue\u001b[0m\u001b[1;33m\u001b[0m\u001b[0m\n\u001b[0;32m    723\u001b[0m         \u001b[1;32mif\u001b[0m \u001b[0mself\u001b[0m\u001b[1;33m.\u001b[0m\u001b[0m_sock\u001b[0m \u001b[1;32mis\u001b[0m \u001b[1;32mNone\u001b[0m\u001b[1;33m:\u001b[0m\u001b[1;33m\u001b[0m\u001b[0m\n",
      "\u001b[1;31mError\u001b[0m: Already closed"
     ]
    }
   ],
   "source": [
    "cursor.close()\n",
    "db.close()"
   ]
  },
  {
   "cell_type": "code",
   "execution_count": 57,
   "metadata": {
    "collapsed": true
   },
   "outputs": [],
   "source": []
  },
  {
   "cell_type": "code",
   "execution_count": null,
   "metadata": {
    "collapsed": true
   },
   "outputs": [],
   "source": []
  }
 ],
 "metadata": {
  "kernelspec": {
   "display_name": "Python 3",
   "language": "python",
   "name": "python3"
  },
  "language_info": {
   "codemirror_mode": {
    "name": "ipython",
    "version": 3
   },
   "file_extension": ".py",
   "mimetype": "text/x-python",
   "name": "python",
   "nbconvert_exporter": "python",
   "pygments_lexer": "ipython3",
   "version": "3.6.3"
  }
 },
 "nbformat": 4,
 "nbformat_minor": 2
}
