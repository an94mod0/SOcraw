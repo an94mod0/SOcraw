{
 "cells": [
  {
   "cell_type": "code",
   "execution_count": 21,
   "metadata": {},
   "outputs": [
    {
     "name": "stdout",
     "output_type": "stream",
     "text": [
      "wrong data list:  []\n",
      "all data are clear\n"
     ]
    }
   ],
   "source": [
    "# cant handle more than 100 wrong data\n",
    "import requests\n",
    "from bs4 import BeautifulSoup as bs\n",
    "import types\n",
    "import re\n",
    "import pymysql\n",
    "import time\n",
    "import sys\n",
    "from datetime import datetime\n",
    "def unixtodt(unix):\n",
    "    if type(unix) is not type(999):\n",
    "        return str(time.strftime('%Y-%m-%d %H:%M:%S', time.localtime(int(unix))))\n",
    "    else:\n",
    "        return str(time.strftime('%Y-%m-%d %H:%M:%S', time.localtime(unix)))\n",
    "\n",
    "\n",
    "db = pymysql.connect(\"140.138.77.90\",\"knkn\",\"tp6bjo4u;6\",\"knkn\",use_unicode=True, charset=\"utf8mb4\")\n",
    "cursor = db.cursor()\n",
    "motion=\"SELECT `aid` FROM  `answers` WHERE `time`='0000-00-00 00:00:00' AND `owner_id`=0\"\n",
    "cursor.execute(motion)\n",
    "results = cursor.fetchall()\n",
    "problems=[]\n",
    "for x in range(len(results)):\n",
    "    problems.append(results[x][0])\n",
    "print('wrong data list: ',problems)\n",
    "if len(problems)<=100 and len(problems)>0:\n",
    "    url=\"https://api.stackexchange.com/2.2/answers/\"\n",
    "    for x in range(len(problems)):\n",
    "        if x is not 0: url+=';'\n",
    "        url+=str(problems[x])\n",
    "    url+=\"?pagesize=100&order=desc&sort=activity&site=stackoverflow\"\n",
    "    print(url)\n",
    "    text=bs(requests.get(url).text,'html.parser').text\n",
    "    x=1\n",
    "    y=1\n",
    "    motion=\"\"\n",
    "    while True: #one answer object every time\\\n",
    "        if text.split('\"user_type\":')[x].split(',')[0]=='\"does_not_exist\"':\n",
    "            owner_id='-1'\n",
    "        else:\n",
    "            owner_id=text.split('\"user_id\":')[y].split(',')[0]\n",
    "            y+=1\n",
    "        timestamp=int(text.split('\"creation_date\":')[x].split(',')[0])\n",
    "        dt=unixtodt(timestamp)\n",
    "        aid=text.split('\"answer_id\":')[x].split(',')[0]\n",
    "        motion+=\"UPDATE `knkn`.`answers` SET `owner_id` = '\"+owner_id+\"', `time` = '\"+dt+\"' WHERE `answers`.`aid` = \"\n",
    "        motion+=str(aid)+';\\n'\n",
    "        print(x,' ',str(owner_id),' ',str(dt))\n",
    "        if text.split('\"question_id\"')[x].split('}')[1][0]==']':\n",
    "            break\n",
    "        x+=1\n",
    "    print(motion)\n",
    "    cursor.execute(motion)\n",
    "    db.commit()\n",
    "    db.close()\n",
    "    print('update data success')\n",
    "elif len(problems) is 0:\n",
    "    print('all data are clear')\n",
    "else:\n",
    "    print('too many problem')"
   ]
  },
  {
   "cell_type": "code",
   "execution_count": null,
   "metadata": {
    "collapsed": true
   },
   "outputs": [],
   "source": []
  }
 ],
 "metadata": {
  "kernelspec": {
   "display_name": "Python 3",
   "language": "python",
   "name": "python3"
  },
  "language_info": {
   "codemirror_mode": {
    "name": "ipython",
    "version": 3
   },
   "file_extension": ".py",
   "mimetype": "text/x-python",
   "name": "python",
   "nbconvert_exporter": "python",
   "pygments_lexer": "ipython3",
   "version": "3.6.3"
  }
 },
 "nbformat": 4,
 "nbformat_minor": 2
}
