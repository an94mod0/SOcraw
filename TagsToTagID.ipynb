{
 "cells": [
  {
   "cell_type": "code",
   "execution_count": 31,
   "metadata": {},
   "outputs": [
    {
     "name": "stdout",
     "output_type": "stream",
     "text": [
      "123 1 javascript\n",
      "123 1435 lodash\n",
      "123 9 c++\n",
      "123 203 gcc\n",
      "123 2 java\n",
      "123 3239 final\n",
      "123 8550 class-variables\n",
      "123 -1 static-initialization\n",
      "123 46 angular\n",
      "123 9 c++\n",
      "123 1480 language-lawyer\n",
      "123 2608 c++17\n",
      "123 96 amazon-web-services\n",
      "123 287 amazon-ec2\n",
      "123 983 cloud\n",
      "123 2957 vps\n",
      "123 -1 amazon-lightsail\n",
      "123 6 python\n",
      "123 52 python-3.x\n",
      "123 344 printing\n",
      "123 6847 python-internals\n",
      "123 9 c++\n",
      "123 150 for-loop\n",
      "123 452 scope\n",
      "123 48 git\n",
      "123 209 github\n",
      "123 24 node.js\n",
      "123 46 angular\n",
      "123 307 npm\n",
      "123 1287 angular-cli\n",
      "123 267 machine-learning\n",
      "123 246 tensorflow\n",
      "123 2 java\n",
      "123 2433 uuid\n",
      "123 67 scala\n"
     ]
    }
   ],
   "source": [
    "#每當新增一筆Question的同時把tags陣列(一個含數tag的字串)傳到FindTagID()，查表找到對應tagID後儲存到另外一個表格\n",
    "import requests\n",
    "import pymysql\n",
    "import time\n",
    "import json\n",
    "import types\n",
    "taglist=['javascript,lodash','c++,gcc','java,final,class-variables,static-initialization','angular','c++,language-lawyer,c++17','amazon-web-services,amazon-ec2,cloud,vps,amazon-lightsail','python,python-3.x,printing,python-internals','c++,for-loop,scope','git,github','node.js,angular,npm,angular-cli','machine-learning,tensorflow','java,uuid','scala']\n",
    "me=json.loads(open('account.json',encoding = 'utf8').read().encode('utf8'))\n",
    "db = pymysql.connect(me['host'],me['username'],me['password'],me['db'],use_unicode=True, charset=\"utf8mb4\")\n",
    "cursor = db.cursor()\n",
    "def FindTagID(tags,qID):\n",
    "    split_tag=tags.split(',')\n",
    "    for x in split_tag:\n",
    "        command=\"SELECT `id` FROM `tags` WHERE `name` = '\"+x+\"';\"\n",
    "        cursor.execute(command)\n",
    "        result = cursor.fetchall()\n",
    "        if result is tuple([]):\n",
    "            print(qID,'-1',x) # 當出現冷僻tag時用-1填tagID?\n",
    "        else:\n",
    "            print(qID,result[0][0],x)\n",
    "for tags in taglist:\n",
    "    FindTagID(tags,qID='123')"
   ]
  },
  {
   "cell_type": "code",
   "execution_count": null,
   "metadata": {
    "collapsed": true
   },
   "outputs": [],
   "source": []
  }
 ],
 "metadata": {
  "kernelspec": {
   "display_name": "Python 3",
   "language": "python",
   "name": "python3"
  },
  "language_info": {
   "codemirror_mode": {
    "name": "ipython",
    "version": 3
   },
   "file_extension": ".py",
   "mimetype": "text/x-python",
   "name": "python",
   "nbconvert_exporter": "python",
   "pygments_lexer": "ipython3",
   "version": "3.6.3"
  }
 },
 "nbformat": 4,
 "nbformat_minor": 2
}
