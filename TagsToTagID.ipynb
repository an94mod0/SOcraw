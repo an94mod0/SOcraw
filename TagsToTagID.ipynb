{
 "cells": [
  {
   "cell_type": "code",
   "execution_count": 35,
   "metadata": {},
   "outputs": [
    {
     "name": "stdout",
     "output_type": "stream",
     "text": [
      "1 javascript\n",
      "1435 lodash\n",
      "9 c++\n",
      "203 gcc\n",
      "2 java\n",
      "3239 final\n",
      "8550 class-variables\n",
      "-1 static-initialization\n",
      "46 angular\n",
      "9 c++\n",
      "1480 language-lawyer\n",
      "2608 c++17\n",
      "96 amazon-web-services\n",
      "287 amazon-ec2\n",
      "983 cloud\n",
      "2957 vps\n",
      "-1 amazon-lightsail\n",
      "6 python\n",
      "52 python-3.x\n",
      "344 printing\n",
      "6847 python-internals\n",
      "9 c++\n",
      "150 for-loop\n",
      "452 scope\n",
      "48 git\n",
      "209 github\n",
      "24 node.js\n",
      "46 angular\n",
      "307 npm\n",
      "1287 angular-cli\n",
      "267 machine-learning\n",
      "246 tensorflow\n",
      "2 java\n",
      "2433 uuid\n",
      "67 scala\n"
     ]
    }
   ],
   "source": [
    "#每當新增一筆Question的同時把tags陣列(一個含數tag的字串)傳到FindTagID()，查表找到對應tagID後儲存到另外一個表格\n",
    "import requests\n",
    "import pymysql\n",
    "import time\n",
    "import json\n",
    "import types\n",
    "taglist=['javascript,lodash','c++,gcc','java,final,class-variables,static-initialization','angular','c++,language-lawyer,c++17','amazon-web-services,amazon-ec2,cloud,vps,amazon-lightsail','python,python-3.x,printing,python-internals','c++,for-loop,scope','git,github','node.js,angular,npm,angular-cli','machine-learning,tensorflow','java,uuid','scala']\n",
    "me=json.loads(open('account.json',encoding = 'utf8').read().encode('utf8'))\n",
    "db = pymysql.connect(me['host'],me['username'],me['password'],me['db'],use_unicode=True, charset=\"utf8mb4\")\n",
    "cursor = db.cursor()\n",
    "def FindTagID(tags,qID):\n",
    "    split_tag=tags.split(',')\n",
    "    for x in split_tag:\n",
    "        command=\"SELECT `id` FROM `tags` WHERE `name` = '\"+x+\"';\"\n",
    "        cursor.execute(command)\n",
    "        result = cursor.fetchall()\n",
    "        if result is tuple([]):\n",
    "            tagID=-1 # 當出現冷僻tag時用-1填tagID?\n",
    "        else:\n",
    "            tagID=result[0][0]\n",
    "        print(tagID,x)\n",
    "        command=\"INSERT INTO `knkn`.`QandTag` VALUES (NULL, '\"+str(qID)+\"', '\"+str(tagID)+\"');\"\n",
    "        cursor.execute(command)\n",
    "for tags in taglist:\n",
    "    FindTagID(tags,qID='123') # 設qid都是123\n",
    "db.commit()"
   ]
  },
  {
   "cell_type": "code",
   "execution_count": null,
   "metadata": {
    "collapsed": true
   },
   "outputs": [],
   "source": []
  }
 ],
 "metadata": {
  "kernelspec": {
   "display_name": "Python 3",
   "language": "python",
   "name": "python3"
  },
  "language_info": {
   "codemirror_mode": {
    "name": "ipython",
    "version": 3
   },
   "file_extension": ".py",
   "mimetype": "text/x-python",
   "name": "python",
   "nbconvert_exporter": "python",
   "pygments_lexer": "ipython3",
   "version": "3.6.3"
  }
 },
 "nbformat": 4,
 "nbformat_minor": 2
}
